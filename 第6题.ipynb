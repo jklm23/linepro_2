{
 "cells": [
  {
   "cell_type": "markdown",
   "metadata": {
    "collapsed": true,
    "pycharm": {
     "name": "#%% md\n"
    }
   },
   "source": [
    "用BFGS算法求解第6题，精确一维搜索使用黄金分割法"
   ]
  },
  {
   "cell_type": "code",
   "execution_count": 3,
   "outputs": [
    {
     "name": "stdout",
     "output_type": "stream",
     "text": [
      "x的取值变化：\n",
      "[0. 0.]  \n",
      "[0.5753308  1.15066159]  \n",
      "[2.00449157 0.98376882]  \n",
      "[2.00449157 0.98376882]  \n",
      "[2.00339451 0.99962657]  \n",
      "[1.99995717 0.9997861 ]  \n",
      "[1.99995717 0.9997861 ]  \n",
      "[1.99996763 0.99999508]  \n",
      "[2.00000033 0.99999737]  \n",
      "[2.00000033 0.99999737]  \n",
      "[2.00000025 0.99999994]  \n",
      "最终x=[2.00000025 0.99999994]\n",
      "此时f=-7.999999999999923\n",
      "此时的梯度为[ 4.98070978e-07 -4.84804636e-07]\n"
     ]
    }
   ],
   "source": [
    "from optimize_lib import *\n",
    "\n",
    "x=np.array([0.,0.])\n",
    "eps=1e-6\n",
    "def gradf(x):\n",
    "    return np.array([2*x[0]-4,8*x[1]-8])\n",
    "\n",
    "def f(x):\n",
    "    return x[0]**2+4*x[1]**2-4*x[0]-8*x[1]\n",
    "\n",
    "res_x=quasi_Newton(x,eps,gradf,f,Hfunc_bfgs,k_list=[],x_list=[],grad_list=[],H_list=[],d_list=[],lambda_list=[])\n",
    "print('最终x='+str(res_x))\n",
    "print('此时f='+str(f(res_x)))\n",
    "print('此时的梯度为'+str(gradf(res_x)))"
   ],
   "metadata": {
    "collapsed": false,
    "pycharm": {
     "name": "#%%\n"
    }
   }
  },
  {
   "cell_type": "markdown",
   "source": [
    "最终点$x$趋向于$[2,1]$,此时$f(x)$趋向于最小值$-8$，其梯度接近于$0$"
   ],
   "metadata": {
    "collapsed": false,
    "pycharm": {
     "name": "#%% md\n"
    }
   }
  }
 ],
 "metadata": {
  "kernelspec": {
   "display_name": "Python 3",
   "language": "python",
   "name": "python3"
  },
  "language_info": {
   "codemirror_mode": {
    "name": "ipython",
    "version": 2
   },
   "file_extension": ".py",
   "mimetype": "text/x-python",
   "name": "python",
   "nbconvert_exporter": "python",
   "pygments_lexer": "ipython2",
   "version": "2.7.6"
  }
 },
 "nbformat": 4,
 "nbformat_minor": 0
}