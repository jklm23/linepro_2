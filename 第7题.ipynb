{
 "cells": [
  {
   "cell_type": "markdown",
   "metadata": {
    "collapsed": true,
    "pycharm": {
     "name": "#%% md\n"
    }
   },
   "source": [
    "第7题\n"
   ]
  },
  {
   "cell_type": "code",
   "execution_count": 5,
   "metadata": {
    "pycharm": {
     "name": "#%%\n"
    }
   },
   "outputs": [],
   "source": [
    "from optimize_lib import *\n",
    "\n",
    "x=np.array([0.,0.])\n",
    "eps=1e-6\n",
    "\n",
    "def gradf(x):\n",
    "    return np.array([2*x[0]-x[1]-10,2*x[1]-x[0]-4])\n",
    "\n",
    "def f(x):\n",
    "    return x[0]**2+x[1]**2-x[0]*x[1]-10*x[0]-4*x[1]+60"
   ]
  },
  {
   "cell_type": "markdown",
   "metadata": {
    "pycharm": {
     "name": "#%% md\n"
    }
   },
   "source": [
    "(a)使用DFP"
   ]
  },
  {
   "cell_type": "code",
   "execution_count": 6,
   "metadata": {
    "pycharm": {
     "name": "#%%\n"
    }
   },
   "outputs": [
    {
     "name": "stdout",
     "output_type": "stream",
     "text": [
      "x的取值变化：\n",
      "[0. 0.]  \n",
      "[7.63561616 3.05424646]  \n",
      "[8.00500186 6.02698277]  \n",
      "[8.00500186 6.02698277]  \n",
      "[8.0114533  6.00837828]  \n",
      "[8.00006183 6.0000507 ]  \n",
      "[8.00006183 6.0000507 ]  \n",
      "[7.99999942 6.00001686]  \n",
      "[8.0000002  6.00000019]  \n",
      "eps=1e-06\n",
      "最终x=[8.0000002  6.00000019]\n",
      "此时f=8.000000000000057\n",
      "x的取值变化：\n",
      "[0. 0.]  \n",
      "[7.63561616 3.05424646]  \n",
      "[8.00500186 6.02698277]  \n",
      "[8.00500186 6.02698277]  \n",
      "[8.0114533  6.00837828]  \n",
      "[8.00006183 6.0000507 ]  \n",
      "eps=0.001\n",
      "最终x=[8.00006183 6.0000507 ]\n",
      "此时f=8.00000000325874\n"
     ]
    }
   ],
   "source": [
    "res_x=quasi_Newton(x,eps,gradf,f,Hfunc,k_list=[],x_list=[],grad_list=[],H_list=[],d_list=[],lambda_list=[])\n",
    "print('eps=%s'%eps)\n",
    "print('最终x='+str(res_x))\n",
    "print('此时f='+str(f(res_x)))\n",
    "\n",
    "eps=1e-3\n",
    "res_x=quasi_Newton(x,eps,gradf,f,Hfunc,k_list=[],x_list=[],grad_list=[],H_list=[],d_list=[],lambda_list=[])\n",
    "print('eps=%s'%eps)\n",
    "print('最终x='+str(res_x))\n",
    "print('此时f='+str(f(res_x)))"
   ]
  },
  {
   "cell_type": "markdown",
   "metadata": {
    "pycharm": {
     "name": "#%% md\n"
    }
   },
   "source": [
    "(b)使用BFGS"
   ]
  },
  {
   "cell_type": "code",
   "execution_count": 7,
   "metadata": {
    "pycharm": {
     "name": "#%%\n"
    }
   },
   "outputs": [
    {
     "name": "stdout",
     "output_type": "stream",
     "text": [
      "x的取值变化：\n",
      "[0. 0.]  \n",
      "[7.63561616 3.05424646]  \n",
      "[8.00198509 5.99858901]  \n",
      "[8.00198509 5.99858901]  \n",
      "[8.00016387 6.00021593]  \n",
      "最终x=[8.00016387 6.00021593]\n",
      "此时f=8.00000003809511\n"
     ]
    }
   ],
   "source": [
    "res_x=quasi_Newton(x,eps,gradf,f,Hfunc_bfgs,k_list=[],x_list=[],grad_list=[],H_list=[],d_list=[],lambda_list=[])\n",
    "print('最终x='+str(res_x))\n",
    "print('此时f='+str(f(res_x)))"
   ]
  },
  {
   "cell_type": "markdown",
   "metadata": {
    "pycharm": {
     "name": "#%% md\n"
    }
   },
   "source": [
    "可以看到，当其他参数相同时，BFGS算法的迭代次数要少于DFP算法"
   ]
  },
  {
   "cell_type": "markdown",
   "metadata": {
    "pycharm": {
     "name": "#%% md\n"
    }
   },
   "source": [
    "(c)使用共轭梯度法"
   ]
  },
  {
   "cell_type": "code",
   "execution_count": 8,
   "metadata": {
    "pycharm": {
     "name": "#%%\n"
    }
   },
   "outputs": [
    {
     "name": "stdout",
     "output_type": "stream",
     "text": [
      "初始方向：[[-10.]\n",
      " [ -4.]]\n",
      "-------\n",
      "步长因子变化：[-0.7631578947368421, 0.43678160919540227]\n",
      "方向变化:[array([[-10.],\n",
      "       [ -4.]]), array([[0.8434903 ],\n",
      "       [6.74792244]])]\n",
      "迭代点：\n",
      "(0.000000,0.000000)\n",
      "(7.631579,3.052632)\n",
      "(8.000000,6.000000)\n",
      "目标函数值变化:[array([60.]), array([15.73684211]), array([8.])]\n",
      "最终f=[8.]\n"
     ]
    }
   ],
   "source": [
    "eps=1e-6    #设定终止条件\n",
    "x=np.array([[0],[0]],dtype=float) #设定x的初始值\n",
    "Q=np.array([[2,-1],[-1,2]],dtype=float) # 正定矩阵Q\n",
    "\n",
    "res=con_gra(x,gradf,f,Q,eps)\n",
    "print('最终f='+str(res))"
   ]
  },
  {
   "cell_type": "markdown",
   "metadata": {
    "pycharm": {
     "name": "#%% md\n"
    }
   },
   "source": [
    "共轭梯度法的迭代点位置的函数梯度之间两两共轭，\n",
    "DFP和BFGS的迭代点在最优值点附近发生了摆动，以寻找其梯度的范数小于eps的条件，\n",
    "因此，其迭代次数可能与设定的eps有关，eps被设定的精度越高，摆动的次数可能越多"
   ]
  }
 ],
 "metadata": {
  "kernelspec": {
   "display_name": "Python 3",
   "language": "python",
   "name": "python3"
  },
  "language_info": {
   "codemirror_mode": {
    "name": "ipython",
    "version": 3
   },
   "file_extension": ".py",
   "mimetype": "text/x-python",
   "name": "python",
   "nbconvert_exporter": "python",
   "pygments_lexer": "ipython3",
   "version": "3.9.2"
  }
 },
 "nbformat": 4,
 "nbformat_minor": 1
}