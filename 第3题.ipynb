{
 "metadata": {
  "language_info": {
   "codemirror_mode": {
    "name": "ipython",
    "version": 3
   },
   "file_extension": ".py",
   "mimetype": "text/x-python",
   "name": "python",
   "nbconvert_exporter": "python",
   "pygments_lexer": "ipython3",
   "version": "3.9.4"
  },
  "orig_nbformat": 2,
  "kernelspec": {
   "name": "python392jvsc74a57bd056154a07800e447c9d8da79c1c5a54d069b3d6b630500882922e182e7d03c6aa",
   "language": "python",
   "display_name": "Python 3.9.2 64-bit ('组合优化第2次作业': conda)"
  },
  "metadata": {
   "interpreter": {
    "hash": "b0fa6594d8f4cbf19f97940f81e996739fb7646882a419484c72d19e05852a7e"
   }
  }
 },
 "nbformat": 4,
 "nbformat_minor": 2,
 "cells": [
  {
   "cell_type": "code",
   "execution_count": 1,
   "metadata": {},
   "outputs": [],
   "source": [
    "from optimize_lib import *\n",
    "def gradf(x):\n",
    "    '''\n",
    "    梯度\n",
    "    '''\n",
    "\n",
    "    return np.array([-400*(x[1]-x[0]**2)*x[0]-2*(1-x[0]),200*(x[1]-x[0]**2)],dtype=float)\n",
    "def f(x):\n",
    "    '''\n",
    "    函数\n",
    "    '''\n",
    "    return 100*((x[1]-x[0]**2)**2)+(1-x[0])**2\n",
    "\n",
    "def func(x):\n",
    "    return 100*(((1+x)-(-1+x)**2)**2)+(2-x)**2\n",
    "\n",
    "p=0.1   # 设定参数"
   ]
  },
  {
   "source": [
    "1. 使用goldstein求第3题$ f(x+\\lambda d) $，设定初始$ p=0.1, x=[-1,1]^T, d=[1,1]^T, \\lambda=0.1, \\alpha=1.5, \\beta=0.5 $"
   ],
   "cell_type": "markdown",
   "metadata": {}
  },
  {
   "cell_type": "code",
   "execution_count": 2,
   "metadata": {},
   "outputs": [
    {
     "name": "stdout",
     "output_type": "stream",
     "text": [
      "lambda的变化情况：[0.1, 0.05, 0.025, 0.0125, 0.00625, 0.003125]\n",
      "最终lamb：0.003125\n",
      "x=[-0.996875  1.003125]\n"
     ]
    }
   ],
   "source": [
    "x=np.array([-1,1],dtype=float)\n",
    "d=np.array([1,1],dtype=float)\n",
    "lamb=goldstein(f,gradf,x,d,0.1,1.5,0.5,p)\n",
    "print('最终lamb：'+str(lamb))\n",
    "print('x='+str(x+lamb*d))"
   ]
  },
  {
   "cell_type": "markdown",
   "source": [
    "2. 使用wolfe-powell求第3题$ f(x+\\lambda d) $，设定初始$ x=[-1,1]^T, d=[1,1]^T, \\lambda=0.1, \\alpha=1.5, \\beta=0.5 $"
   ],
   "metadata": {
    "collapsed": false
   }
  },
  {
   "cell_type": "code",
   "execution_count": 3,
   "outputs": [
    {
     "name": "stdout",
     "output_type": "stream",
     "text": [
      "lambda的变化情况：[0.1, 0.06999999999999999, 0.048999999999999995, 0.0343, 0.024009999999999997, 0.016806999999999996, 0.011764899999999997, 0.008235429999999997, 0.005764800999999997, 0.004035360699999998, 0.0028247524899999983]\n",
      "最终lamb：0.0028247524899999983\n",
      "x=[-0.99717525  1.00282475]\n"
     ]
    }
   ],
   "source": [
    "x=np.array([-1,1],dtype=float)\n",
    "d=np.array([1,1],dtype=float)\n",
    "lamb=wolf_powell(f,gradf,x,d,0.1,1.5,0.7,p)\n",
    "print('最终lamb：'+str(lamb))\n",
    "print('x='+str(x+lamb*d))"
   ],
   "metadata": {
    "collapsed": false,
    "pycharm": {
     "name": "#%%\n"
    }
   }
  },
  {
   "cell_type": "markdown",
   "source": [
    "3. 采用goldstein-price，计算$ \\sigma=p+0.1 $和$ \\sigma=p+0.2 $时的$ \\lambda $结果，尝试后发现当其他参数不变$ \\sigma>=p+0.2 $时，最终$ \\lambda $稳定在0.003125"
   ],
   "metadata": {
    "collapsed": false
   }
  },
  {
   "cell_type": "code",
   "execution_count": 13,
   "outputs": [
    {
     "name": "stdout",
     "output_type": "stream",
     "text": [
      "lambda的变化情况：[0.1, 0.05, 0.025, 0.0125, 0.00625, 0.003125, 0.004687500000000001, 0.0023437500000000003, 0.0035156250000000005, 0.0052734375, 0.00263671875, 0.003955078125000001]\n",
      "最终lamb：0.003955078125000001\n",
      "x=[-0.99604492  1.00395508]\n",
      "\n",
      "lambda的变化情况：[0.1, 0.05, 0.025, 0.0125, 0.00625, 0.003125]\n",
      "最终lamb：0.003125\n",
      "x=[-0.996875  1.003125]\n"
     ]
    }
   ],
   "source": [
    "x=np.array([-1,1],dtype=float)\n",
    "d=np.array([1,1],dtype=float)\n",
    "\n",
    "lamb=goldstein_price(f,gradf,x,d,0.1,1.5,0.5,p,p+0.1)\n",
    "print('最终lamb：'+str(lamb))\n",
    "print('x='+str(x+lamb*d)+'\\n')\n",
    "\n",
    "\n",
    "lamb=goldstein_price(f,gradf,x,d,0.1,1.5,0.5,p,p+0.2)\n",
    "print('最终lamb：'+str(lamb))\n",
    "print('x='+str(x+lamb*d))"
   ],
   "metadata": {
    "collapsed": false,
    "pycharm": {
     "name": "#%%\n"
    }
   }
  },
  {
   "cell_type": "markdown",
   "source": [
    "4. 采用黄金分割法"
   ],
   "metadata": {
    "collapsed": false,
    "pycharm": {
     "name": "#%% md\n"
    }
   }
  },
  {
   "cell_type": "code",
   "execution_count": 5,
   "outputs": [
    {
     "name": "stdout",
     "output_type": "stream",
     "text": [
      "alpha_list:[-1, -0.236, -0.236, -0.236, -0.055695999999999996, -0.055695999999999996, -0.055695999999999996, -0.013108372448000005, -0.013108372448000005, -0.013108372448000005, -0.0030713998625920055, -0.0030713998625920055, 0.0007619608551173596, 0.0007619608551173596, 0.0007619608551173596, 0.0016768140922214835, 0.0016768140922214835]\n",
      "\n",
      "beta_list:[1, 1, 0.527848, 0.236, 0.236, 0.12457212799999998, 0.055789935999999984, 0.055789935999999984, 0.029470782172863988, 0.013166424895999992, 0.013166424895999992, 0.006963575838217851, 0.006963575838217851, 0.004594558914673463, 0.0031568646171700396, 0.0031568646171700396, 0.002591485316639691]\n",
      "\n",
      "lambda_list:[-0.236, 0.236, 0.055789935999999984, -0.055695999999999996, 0.055789935999999984, 0.013166424895999992, -0.013108372448000005, 0.013166424895999992, 0.0031568646171700396, -0.0030713998625920055, 0.0031568646171700396, 0.0007619608551173596, 0.0031568646171700396, 0.002226013313867791, 0.0016768140922214835, 0.002226013313867791, 0.002026218499949239]\n",
      "\n",
      "mu_list:[0.236, 0.527848, 0.236, 0.055789935999999984, 0.12457212799999998, 0.055789935999999984, 0.013166424895999992, 0.029470782172863988, 0.013166424895999992, 0.0031568646171700396, 0.006963575838217851, 0.0031568646171700396, 0.004594558914673463, 0.0031568646171700396, 0.002226013313867791, 0.002591485316639691, 0.002226013313867791]\n",
      "\n",
      "最终lamb：0.0021341497044305873\n"
     ]
    }
   ],
   "source": [
    "section=[-1,1]\n",
    "delta=0.001\n",
    "print('最终lamb：'+str(golden_section(func,section,delta)))"
   ],
   "metadata": {
    "collapsed": false,
    "pycharm": {
     "name": "#%%\n"
    }
   }
  },
  {
   "cell_type": "markdown",
   "source": [
    "1和2返回的结果因设定的步长变化系数α，β而有所差异，由此可推断，不精确的一维搜索的最终步长与设定的步长变化系数有关"
   ],
   "metadata": {
    "collapsed": false
   }
  }
 ]
}