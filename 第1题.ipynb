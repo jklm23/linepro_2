{
 "cells": [
  {
   "cell_type": "markdown",
   "metadata": {
    "collapsed": true,
    "pycharm": {
     "name": "#%% md\n"
    }
   },
   "source": [
    "## 共轭梯度法求解题1"
   ]
  },
  {
   "cell_type": "code",
   "source": [
    "import numpy as np\n",
    "# import math"
   ],
   "metadata": {
    "collapsed": false,
    "pycharm": {
     "name": "#%%\n"
    }
   },
   "execution_count": 26,
   "outputs": []
  },
  {
   "cell_type": "code",
   "execution_count": 27,
   "outputs": [],
   "source": [
    "# 基本参数\n",
    "eps=1e-6    #设定终止条件\n",
    "x=np.array([[0],[0]],dtype=float) #设定x的初始值\n",
    "Q=np.array([[4,2],[2,2]],dtype=float) # 正定矩阵Q"
   ],
   "metadata": {
    "collapsed": false,
    "pycharm": {
     "name": "#%%\n"
    }
   }
  },
  {
   "cell_type": "code",
   "execution_count": 28,
   "outputs": [],
   "source": [
    "def grad(x):\n",
    "    '''\n",
    "    梯度函数\n",
    "    :param x:\n",
    "    :return:\n",
    "    '''\n",
    "    return np.array([[1+4*x[0][0]+2*x[1][0]],[-1+2*x[0][0]+2*x[1][0]]])\n",
    "\n",
    "def lam(p,Q,x):\n",
    "    '''\n",
    "    步长因子\n",
    "    :param p:\n",
    "    :param Q:\n",
    "    :return:\n",
    "    '''\n",
    "    return -float(np.dot(p.T,grad(x)))/float(np.dot(np.dot(p.T,Q),p))\n",
    "\n",
    "def direction(p,Q,x):\n",
    "    '''\n",
    "    共轭方向的计算\n",
    "    :param p:\n",
    "    :param x:\n",
    "    :return:\n",
    "    '''\n",
    "    return -grad(x)+float((p.T.dot(Q).dot(grad(x)))/(p.T.dot(Q).dot(p)))*p\n",
    "\n",
    "def f(x):\n",
    "    '''\n",
    "    目标函数\n",
    "    :param x:\n",
    "    :return:\n",
    "    '''\n",
    "    return x[0][0]-x[1][0]+2*x[0][0]*x[0][0]+2*x[0][0]*x[1][0]+x[1][0]*x[1][0]"
   ],
   "metadata": {
    "collapsed": false,
    "pycharm": {
     "name": "#%%\n"
    }
   }
  },
  {
   "cell_type": "code",
   "execution_count": 29,
   "outputs": [
    {
     "name": "stdout",
     "output_type": "stream",
     "text": [
      "[[ 1.]\n",
      " [-1.]]\n"
     ]
    }
   ],
   "source": [
    "gradi=grad(x)   # 初始梯度\n",
    "p_i=gradi   # 初始方向\n",
    "print(p_i)\n",
    "lambda_i=float(lam(p_i,Q,x))\n",
    "p_i_res=[p_i]\n",
    "lambda_i_res=[lambda_i]\n",
    "f_res=[f(x)]\n",
    "x1=[x[0][0]]\n",
    "x2=[x[1][0]]"
   ],
   "metadata": {
    "collapsed": false,
    "pycharm": {
     "name": "#%%\n"
    }
   }
  },
  {
   "cell_type": "code",
   "execution_count": 30,
   "outputs": [
    {
     "name": "stdout",
     "output_type": "stream",
     "text": [
      "-------\n",
      "步长因子变化：[-1.0, 0.25]\n",
      "方向变化:[array([[ 1.],\n",
      "       [-1.]]), array([[0.],\n",
      "       [2.]])]\n",
      "目标函数值变化:[0.0, -1.0, -1.25]\n"
     ]
    }
   ],
   "source": [
    "while abs(np.linalg.norm(gradi,ord=1))>eps:  # ord=1代表1范数\n",
    "    # print('lambda_i:'+str(lambda_i))\n",
    "    # print('p_i:'+str(p_i))\n",
    "    x+=lambda_i*p_i\n",
    "    # print('x:'+str(x))\n",
    "    # print('新梯度：'+str(grad(x)))\n",
    "    gradi=grad(x)\n",
    "    f_res.append(f(x))\n",
    "    x1.append(x[0][0])\n",
    "    x2.append(x[1][0])\n",
    "    if abs(np.linalg.norm(gradi,ord=1))<=eps:\n",
    "        # 新梯度超过eps，终止\n",
    "        break\n",
    "\n",
    "\n",
    "    p_i=direction(p_i,Q,x)\n",
    "    lambda_i=float(lam(p_i,Q,x))\n",
    "    lambda_i_res.append(lambda_i)\n",
    "    p_i_res.append(p_i)\n",
    "    # print('-----')\n",
    "print('-------')\n",
    "print('步长因子变化：'+str(lambda_i_res))\n",
    "print('方向变化:'+str(p_i_res))\n",
    "print('目标函数值变化:'+str(f_res))"
   ],
   "metadata": {
    "collapsed": false,
    "pycharm": {
     "name": "#%%\n"
    }
   }
  },
  {
   "cell_type": "code",
   "execution_count": 67,
   "outputs": [
    {
     "data": {
      "text/plain": "<Figure size 432x288 with 1 Axes>",
      "image/png": "[encoded data removed]"
     },
     "metadata": {
      "needs_background": "light"
     },
     "output_type": "display_data"
    }
   ],
   "source": [
    "import matplotlib.pyplot as plt\n",
    "\n",
    "plt.xlabel('x1')\n",
    "plt.ylabel('x2')\n",
    "plt.scatter(x1,x2,marker='o',color='red',s=50)\n",
    "\n",
    "# 为每个点添加标签\n",
    "for i in range(len(x1)):\n",
    "    plt.annotate('p_%d'%(i),xy=(x1[i],x2[i]),xytext=(x1[i]+0.03,x2[i]))\n",
    "\n",
    "\n",
    "for i in range(len(x1)-1):\n",
    "    plt.arrow(x1[i],x2[i],x1[i+1]-x1[i],x2[i+1]-x2[i],width=0.006,length_includes_head=True,head_width=0.03)\n",
    "\n",
    "plt.show()"
   ],
   "metadata": {
    "collapsed": false,
    "pycharm": {
     "name": "#%% 绘制图像\n"
    }
   }
  },
  {
   "cell_type": "markdown",
   "source": [
    "根据上述结果，得到目标函数最小值为$ -1.25 $"
   ],
   "metadata": {
    "collapsed": false
   }
  }
 ],
 "metadata": {
  "kernelspec": {
   "display_name": "Python 3",
   "language": "python",
   "name": "python3"
  },
  "language_info": {
   "codemirror_mode": {
    "name": "ipython",
    "version": 2
   },
   "file_extension": ".py",
   "mimetype": "text/x-python",
   "name": "python",
   "nbconvert_exporter": "python",
   "pygments_lexer": "ipython2",
   "version": "2.7.6"
  }
 },
 "nbformat": 4,
 "nbformat_minor": 0
}