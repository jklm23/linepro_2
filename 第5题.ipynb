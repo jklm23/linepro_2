{
 "cells": [
  {
   "cell_type": "markdown",
   "metadata": {
    "collapsed": true,
    "pycharm": {
     "name": "#%% md\n"
    }
   },
   "source": [
    "用DFP算法求解第5题，精确一维搜索使用黄金分割法"
   ]
  },
  {
   "cell_type": "code",
   "execution_count": 2,
   "outputs": [
    {
     "name": "stdout",
     "output_type": "stream",
     "text": [
      "x的取值变化：\n",
      "[0.1 1. ]  \n",
      "[-0.0748256  0.8251744]  \n",
      "[ 0.00455243 -0.00426439]  \n",
      "[ 0.00455243 -0.00426439]  \n",
      "[-0.00026418 -0.00381321]  \n",
      "[-1.12391870e-04  5.73345083e-05]  \n",
      "[-1.12391870e-04  5.73345083e-05]  \n",
      "[6.52218278e-06 5.12683411e-05]  \n",
      "[ 2.99505108e-06 -2.20942579e-06]  \n",
      "[ 2.99505108e-06 -2.20942579e-06]  \n",
      "[-1.73805014e-07 -1.97566175e-06]  \n",
      "[-7.83904660e-08  3.15489801e-08]  \n",
      "[-7.83904660e-08  3.15489801e-08]  \n",
      "[4.54905631e-09 2.82110010e-08]  \n",
      "最终x=[4.54905631e-09 2.82110010e-08]\n",
      "此时f=1.002799713074295e-15\n"
     ]
    }
   ],
   "source": [
    "from optimize_lib import *\n",
    "\n",
    "x=np.array([0.1,1.])\n",
    "eps=1e-6\n",
    "def gradf(x):\n",
    "    return np.array([20*x[0],2*x[1]])\n",
    "\n",
    "def f(x):\n",
    "    return 10*x[0]**2+x[1]**2\n",
    "\n",
    "res_x=quasi_Newton(x,eps,gradf,f,Hfunc,k_list=[],x_list=[],grad_list=[],H_list=[],d_list=[],lambda_list=[])\n",
    "print('最终x='+str(res_x))\n",
    "print('此时f='+str(f(res_x)))"
   ],
   "metadata": {
    "collapsed": false,
    "pycharm": {
     "name": "#%%\n"
    }
   }
  },
  {
   "cell_type": "markdown",
   "source": [
    "根据计算结果发现，最终x接近于0，此时$f(x)\\approx 0$，而实际$minf(x)=0$，DFP算法完成了目标函数的最优化问题"
   ],
   "metadata": {
    "collapsed": false,
    "pycharm": {
     "name": "#%% md\n"
    }
   }
  }
 ],
 "metadata": {
  "kernelspec": {
   "display_name": "Python 3",
   "language": "python",
   "name": "python3"
  },
  "language_info": {
   "codemirror_mode": {
    "name": "ipython",
    "version": 2
   },
   "file_extension": ".py",
   "mimetype": "text/x-python",
   "name": "python",
   "nbconvert_exporter": "python",
   "pygments_lexer": "ipython2",
   "version": "2.7.6"
  }
 },
 "nbformat": 4,
 "nbformat_minor": 0
}